{
 "cells": [
  {
   "cell_type": "code",
   "execution_count": 1,
   "metadata": {},
   "outputs": [
    {
     "name": "stderr",
     "output_type": "stream",
     "text": [
      "Dropped Escape call with ulEscapeCode : 0x03007703\n",
      "/home/shiva/Projects/venv/lib/python3.12/site-packages/torch/nn/functional.py:3172: UserWarning: The operator 'aten::binary_cross_entropy' is not currently supported on the DML backend and will fall back to run on the CPU. This may have performance implications. (Triggered internally at /__w/1/s/pytorch-directml-plugin/torch_directml/csrc/dml/dml_cpu_fallback.cpp:15.)\n",
      "  return torch._C._nn.binary_cross_entropy(input, target, weight, reduction_enum)\n"
     ]
    },
    {
     "name": "stdout",
     "output_type": "stream",
     "text": [
      "Epoch [10/100], Loss: 0.5872\n",
      "Epoch [20/100], Loss: 0.4017\n",
      "Epoch [30/100], Loss: 0.2890\n",
      "Epoch [40/100], Loss: 0.2609\n",
      "Epoch [50/100], Loss: 0.2329\n",
      "Epoch [60/100], Loss: 0.2057\n",
      "Epoch [70/100], Loss: 0.1742\n",
      "Epoch [80/100], Loss: 0.1404\n",
      "Epoch [90/100], Loss: 0.1057\n",
      "Epoch [100/100], Loss: 0.0776\n",
      "Accuracy: 0.9366\n",
      "Model saved successfully.\n"
     ]
    }
   ],
   "source": [
    "import pandas as pd\n",
    "import torch\n",
    "import torch.nn as nn\n",
    "import torch.optim as optim\n",
    "import torch_directml\n",
    "from sklearn.model_selection import train_test_split\n",
    "from sklearn.preprocessing import StandardScaler\n",
    "\n",
    "# Load data\n",
    "data = pd.read_csv(\"heart.csv\")\n",
    "\n",
    "# Features and target\n",
    "independent = ['age', 'sex', 'cp', 'trestbps', 'chol', 'fbs', 'restecg', 'thalach',\n",
    "               'exang', 'oldpeak', 'slope', 'ca', 'thal']\n",
    "dependent = ['target']\n",
    "\n",
    "X = data[independent].values\n",
    "y = data[dependent].values\n",
    "\n",
    "# Normalize features\n",
    "scaler = StandardScaler()\n",
    "X = scaler.fit_transform(X)\n",
    "\n",
    "# Train-test split\n",
    "X_train, X_test, y_train, y_test = train_test_split(X, y, test_size=0.2, random_state=42)\n",
    "\n",
    "# Convert to PyTorch tensors\n",
    "device = torch_directml.device()\n",
    "X_train_tensor = torch.tensor(X_train, dtype=torch.float32).to(device)\n",
    "y_train_tensor = torch.tensor(y_train, dtype=torch.float32).to(device)\n",
    "X_test_tensor = torch.tensor(X_test, dtype=torch.float32).to(device)\n",
    "y_test_tensor = torch.tensor(y_test, dtype=torch.float32).to(device)\n",
    "\n",
    "# Neural Network Model\n",
    "class HeartDiseaseModel(nn.Module):\n",
    "    def __init__(self):\n",
    "        super(HeartDiseaseModel, self).__init__()\n",
    "        self.fc1 = nn.Linear(len(independent), 16)  # Input Layer\n",
    "        self.fc2 = nn.Linear(16, 8)  # Hidden Layer\n",
    "        self.fc3 = nn.Linear(8, 1)   # Output Layer\n",
    "        self.relu = nn.ReLU()\n",
    "        self.sigmoid = nn.Sigmoid()\n",
    "\n",
    "    def forward(self, x):\n",
    "        x = self.relu(self.fc1(x))\n",
    "        x = self.relu(self.fc2(x))\n",
    "        x = self.sigmoid(self.fc3(x))  # Output between 0 and 1\n",
    "        return x\n",
    "\n",
    "# Model, Loss, Optimizer\n",
    "model = HeartDiseaseModel().to(device)\n",
    "criterion = nn.BCELoss()  # Binary Cross Entropy for classification\n",
    "optimizer = optim.Adam(model.parameters(), lr=0.01)\n",
    "\n",
    "# Training Loop\n",
    "epochs = 100\n",
    "for epoch in range(epochs):\n",
    "    optimizer.zero_grad()\n",
    "    outputs = model(X_train_tensor)\n",
    "    loss = criterion(outputs, y_train_tensor)\n",
    "    loss.backward()\n",
    "    optimizer.step()\n",
    "    \n",
    "    if (epoch+1) % 10 == 0:\n",
    "        print(f'Epoch [{epoch+1}/{epochs}], Loss: {loss.item():.4f}')\n",
    "\n",
    "# Model Evaluation\n",
    "model.eval()\n",
    "with torch.no_grad():\n",
    "    y_pred = model(X_test_tensor).cpu().numpy()\n",
    "    y_pred = (y_pred > 0.5).astype(int)  # Convert probabilities to binary\n",
    "    accuracy = (y_pred == y_test).mean()\n",
    "    print(f'Accuracy: {accuracy:.4f}')\n",
    "\n",
    "# Save model after training\n",
    "torch.save(model.state_dict(), \"heart_disease_model.pth\")\n",
    "print(\"Model saved successfully.\")\n",
    "\n",
    "\n"
   ]
  },
  {
   "cell_type": "code",
   "execution_count": null,
   "metadata": {},
   "outputs": [],
   "source": []
  }
 ],
 "metadata": {
  "kernelspec": {
   "display_name": "venv",
   "language": "python",
   "name": "python3"
  },
  "language_info": {
   "codemirror_mode": {
    "name": "ipython",
    "version": 3
   },
   "file_extension": ".py",
   "mimetype": "text/x-python",
   "name": "python",
   "nbconvert_exporter": "python",
   "pygments_lexer": "ipython3",
   "version": "3.12.3"
  }
 },
 "nbformat": 4,
 "nbformat_minor": 2
}
